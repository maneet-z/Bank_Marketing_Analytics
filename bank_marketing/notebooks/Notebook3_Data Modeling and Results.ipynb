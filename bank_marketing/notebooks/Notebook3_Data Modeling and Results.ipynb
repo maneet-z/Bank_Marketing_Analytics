{
 "cells": [
  {
   "cell_type": "markdown",
   "metadata": {},
   "source": [
    "# Data Modelling and Evaluations"
   ]
  },
  {
   "cell_type": "markdown",
   "metadata": {},
   "source": [
    "With preprocessing and data cleaning from the previous step, we now have a clean dataset that falls in the inclusive range of [0,1]. This helps model to generaize the weights of significantly high values like high age values and some missing values."
   ]
  },
  {
   "cell_type": "code",
   "execution_count": null,
   "metadata": {},
   "outputs": [],
   "source": [
    "# import basic libraries\n",
    "import pandas as pd\n",
    "import numpy as np\n",
    "import matplotlib.pyplot as plt\n",
    "import seaborn as sns\n",
    "import random\n",
    "import warnings"
   ]
  },
  {
   "cell_type": "code",
   "execution_count": 432,
   "metadata": {},
   "outputs": [],
   "source": [
    "path = './bank_marketing'\n",
    "data_add = '/data'\n",
    "report_add = '/report'\n",
    "figures_add = '/figures'\n",
    "experiment_add = '/experiments'"
   ]
  },
  {
   "cell_type": "code",
   "execution_count": 472,
   "metadata": {},
   "outputs": [],
   "source": [
    "# Lets crreate a helper function for plotting confusion matrix\n",
    "def plot_confusion_matrix(cm,\n",
    "                          target_names,\n",
    "                          title='Confusion matrix',\n",
    "                          cmap=None,\n",
    "                          normalize=True):\n",
    "    import matplotlib.pyplot as plt\n",
    "    import numpy as np\n",
    "    import itertools\n",
    "\n",
    "    accuracy = np.trace(cm) / np.sum(cm).astype('float')\n",
    "    misclass = 1 - accuracy\n",
    "\n",
    "    if cmap is None:\n",
    "        cmap = plt.get_cmap('Blues')\n",
    "\n",
    "    plt.figure(figsize=(4,4))\n",
    "    plt.imshow(cm, interpolation='nearest', cmap=cmap)\n",
    "    plt.title(title)\n",
    "#     plt.colorbar()\n",
    "\n",
    "    if target_names is not None:\n",
    "        tick_marks = np.arange(len(target_names))\n",
    "        plt.xticks(tick_marks, target_names, rotation=45)\n",
    "        plt.yticks(tick_marks, target_names)\n",
    "\n",
    "    if normalize:\n",
    "        cm = cm.astype('float') / cm.sum(axis=1)[:, np.newaxis]\n",
    "\n",
    "\n",
    "    thresh = cm.max() / 1.5 if normalize else cm.max() / 2\n",
    "    for i, j in itertools.product(range(cm.shape[0]), range(cm.shape[1])):\n",
    "        if normalize:\n",
    "            plt.text(j, i, \"{:0.3f}\".format(cm[i, j]),\n",
    "                     horizontalalignment=\"center\",\n",
    "                     color=\"white\" if cm[i, j] > thresh else \"black\")\n",
    "        else:\n",
    "            plt.text(j, i, \"{:,}\".format(cm[i, j]),\n",
    "                     horizontalalignment=\"center\",\n",
    "                     color=\"white\" if cm[i, j] > thresh else \"black\")\n",
    "\n",
    "\n",
    "    plt.tight_layout()\n",
    "    plt.ylabel('True label')\n",
    "    plt.xlabel('Predicted label\\naccuracy={:0.4f}; misclass={:0.4f}'.format(accuracy, misclass))\n",
    "    plt.show()"
   ]
  },
  {
   "cell_type": "markdown",
   "metadata": {},
   "source": [
    "## Import processed data which is ready for modelling"
   ]
  },
  {
   "cell_type": "code",
   "execution_count": 433,
   "metadata": {},
   "outputs": [
    {
     "data": {
      "text/plain": [
       "((73096, 62), (73096, 1))"
      ]
     },
     "execution_count": 433,
     "metadata": {},
     "output_type": "execute_result"
    }
   ],
   "source": [
    "X_over_preprocessed= pd.read_csv(path + data_add + '/processed/Over_processed_features.csv',index_col=0)\n",
    "y_over_preprocessed= pd.read_csv(path + data_add + '/processed/Over_processed_labels.csv',index_col=0)\n",
    "X_over_preprocessed.shape, y_over_preprocessed.shape"
   ]
  },
  {
   "cell_type": "code",
   "execution_count": 434,
   "metadata": {},
   "outputs": [
    {
     "data": {
      "text/plain": [
       "((9280, 61), (9280, 1))"
      ]
     },
     "execution_count": 434,
     "metadata": {},
     "output_type": "execute_result"
    }
   ],
   "source": [
    "X_under_preprocessed= pd.read_csv(path + data_add + '/processed/Under_processed_features.csv',index_col=0)\n",
    "y_under_preprocessed= pd.read_csv(path + data_add + '/processed/Under_processed_labels.csv',index_col=0)\n",
    "X_under_preprocessed.shape, y_under_preprocessed.shape"
   ]
  },
  {
   "cell_type": "code",
   "execution_count": 435,
   "metadata": {},
   "outputs": [
    {
     "data": {
      "text/plain": [
       "((41188, 62), (41188, 1))"
      ]
     },
     "execution_count": 435,
     "metadata": {},
     "output_type": "execute_result"
    }
   ],
   "source": [
    "X_raw_preprocessed = pd.read_csv(path + data_add +'/processed/Raw_processed_features.csv',index_col=0)\n",
    "y_raw_preprocessed = pd.read_csv(path + data_add + '/processed/Raw_processed_labels.csv',index_col=0)\n",
    "X_raw_preprocessed.shape, y_raw_preprocessed.shape"
   ]
  },
  {
   "cell_type": "markdown",
   "metadata": {},
   "source": [
    "## Data Modelling <a class=\"anchor\" id=\"seven-bullet\"></a>"
   ]
  },
  {
   "cell_type": "code",
   "execution_count": 436,
   "metadata": {},
   "outputs": [],
   "source": [
    "import time\n",
    "from sklearn import tree\n",
    "from sklearn.neighbors import KNeighborsClassifier\n",
    "from sklearn.ensemble import RandomForestClassifier, GradientBoostingClassifier\n",
    "from sklearn import metrics\n",
    "from sklearn.model_selection import train_test_split, cross_val_score, RandomizedSearchCV, GridSearchCV\n",
    "\n",
    "# Assigning dictionary of models\n",
    "dict_classifiers = {\n",
    "    \"Nearest Neighbors\": KNeighborsClassifier(),\n",
    "    \"Random Forest\": RandomForestClassifier(),\n",
    "    \"Gradient Boosting Classifier\": GradientBoostingClassifier()\n",
    "}\n"
   ]
  },
  {
   "cell_type": "code",
   "execution_count": 437,
   "metadata": {},
   "outputs": [],
   "source": [
    "# Defining a function to test classifiers with 3 fold cross validation to form a baseline performance\n",
    "\n",
    "no_classifiers = len(dict_classifiers.keys())\n",
    "\n",
    "def cv_model(X_train,Y_train,verbose = True):\n",
    "    df_results = pd.DataFrame()\n",
    "    count = 0\n",
    "    for key, classifier in dict_classifiers.items():\n",
    "        t_start = time.clock()\n",
    "        cross_val = cross_val_score(classifier,X_train, Y_train, cv = 3)\n",
    "        t_end = time.clock()\n",
    "        t_diff = t_end - t_start\n",
    "        df_results.loc[count,'Classifier'] = key\n",
    "        df_results.loc[count,'Total_time'] = t_diff\n",
    "        df_results.loc[count,'Cross Val Mean Score'] = cross_val.mean()\n",
    "        if verbose:\n",
    "            print(\"trained {c} in {f:.2f} s\".format(c=key, f=t_diff))\n",
    "        count+=1\n",
    "    return df_results"
   ]
  },
  {
   "cell_type": "markdown",
   "metadata": {},
   "source": [
    "### Using Raw Preprocessed Data"
   ]
  },
  {
   "cell_type": "code",
   "execution_count": 438,
   "metadata": {},
   "outputs": [
    {
     "name": "stdout",
     "output_type": "stream",
     "text": [
      "trained Nearest Neighbors in 46.03 s\n",
      "trained Random Forest in 15.30 s\n",
      "trained Gradient Boosting Classifier in 46.45 s\n",
      "                     Classifier  Total_time  Cross Val Mean Score\n",
      "2  Gradient Boosting Classifier   46.452167              0.547943\n",
      "0             Nearest Neighbors   46.026236              0.524270\n",
      "1                 Random Forest   15.302129              0.395783\n"
     ]
    }
   ],
   "source": [
    "cv_raw_results = cv_model(X_raw_preprocessed.values,y_raw_preprocessed.values)\n",
    "cv_raw_results = cv_raw_results.sort_values(by='Cross Val Mean Score', ascending=False)\n",
    "print(cv_raw_results)"
   ]
  },
  {
   "cell_type": "markdown",
   "metadata": {},
   "source": [
    "<b>Lets evaluate the best performing model on test set</b>"
   ]
  },
  {
   "cell_type": "code",
   "execution_count": 439,
   "metadata": {},
   "outputs": [
    {
     "name": "stdout",
     "output_type": "stream",
     "text": [
      "GradientBoostingClassifier()\n",
      "              precision    recall  f1-score   support\n",
      "\n",
      "           0       0.94      0.97      0.95      7301\n",
      "           1       0.67      0.50      0.57       937\n",
      "\n",
      "    accuracy                           0.91      8238\n",
      "   macro avg       0.80      0.73      0.76      8238\n",
      "weighted avg       0.91      0.91      0.91      8238\n",
      "\n"
     ]
    }
   ],
   "source": [
    "X_train, X_test, y_train, y_test = train_test_split(X_raw_preprocessed, y_raw_preprocessed, test_size=0.20)\n",
    "best_clf = dict_classifiers.get(cv_raw_results.Classifier.iloc[0])\n",
    "print(best_clf)\n",
    "best_clf.fit(X_train,y_train)\n",
    "y_pred = best_clf.predict(X_test)\n",
    "print(metrics.classification_report(y_test,y_pred))"
   ]
  },
  {
   "cell_type": "code",
   "execution_count": 440,
   "metadata": {},
   "outputs": [],
   "source": [
    "X_train.to_csv(path + experiment_add + '/raw_X_train.csv',index = False)\n",
    "X_test.to_csv(path + experiment_add + '/raw_X_test.csv',index = False)\n",
    "y_train.to_csv(path + experiment_add + '/raw_y_train.csv',index = False)\n",
    "y_test.to_csv(path + experiment_add + '/raw_y_test.csv',index = False)\n",
    "np.savetxt(path + experiment_add + '/raw_y_pred.csv', y_pred, delimiter=\",\")"
   ]
  },
  {
   "cell_type": "markdown",
   "metadata": {},
   "source": [
    "### Experiment using Undersampling"
   ]
  },
  {
   "cell_type": "code",
   "execution_count": 441,
   "metadata": {},
   "outputs": [
    {
     "name": "stdout",
     "output_type": "stream",
     "text": [
      "trained Nearest Neighbors in 2.88 s\n",
      "trained Random Forest in 4.28 s\n",
      "trained Gradient Boosting Classifier in 7.98 s\n",
      "                     Classifier  Total_time  Cross Val Mean Score\n",
      "0             Nearest Neighbors    2.876624              0.603246\n",
      "2  Gradient Boosting Classifier    7.982241              0.462824\n",
      "1                 Random Forest    4.278990              0.448276\n"
     ]
    }
   ],
   "source": [
    "cv_under_results = cv_model(X_under_preprocessed,y_under_preprocessed)\n",
    "cv_under_results = cv_under_results.sort_values(by='Cross Val Mean Score', ascending=False)\n",
    "print(cv_under_results)"
   ]
  },
  {
   "cell_type": "markdown",
   "metadata": {},
   "source": [
    "<b>Lets evaluate the best performing model on test set</b>"
   ]
  },
  {
   "cell_type": "code",
   "execution_count": 442,
   "metadata": {},
   "outputs": [],
   "source": [
    "X_train, X_test, y_train, y_test = train_test_split(X_under_preprocessed, y_under_preprocessed, test_size=0.20)\n",
    "best_clf = dict_classifiers.get(cv_under_results.Classifier.iloc[0])\n",
    "best_clf.fit(X_train,y_train)\n",
    "y_pred= best_clf.predict(X_test)"
   ]
  },
  {
   "cell_type": "code",
   "execution_count": 443,
   "metadata": {},
   "outputs": [
    {
     "name": "stdout",
     "output_type": "stream",
     "text": [
      "KNeighborsClassifier()\n",
      "              precision    recall  f1-score   support\n",
      "\n",
      "           0       0.76      0.82      0.79       969\n",
      "           1       0.78      0.72      0.75       887\n",
      "\n",
      "    accuracy                           0.77      1856\n",
      "   macro avg       0.77      0.77      0.77      1856\n",
      "weighted avg       0.77      0.77      0.77      1856\n",
      "\n"
     ]
    }
   ],
   "source": [
    "print(best_clf)\n",
    "print(metrics.classification_report(y_test,y_pred))"
   ]
  },
  {
   "cell_type": "code",
   "execution_count": 444,
   "metadata": {},
   "outputs": [],
   "source": [
    "X_train.to_csv(path + experiment_add + '/undersampled_X_train.csv', index = False)\n",
    "X_test.to_csv(path + experiment_add + '/undersampled_X_test.csv', index = False)\n",
    "y_train.to_csv(path + experiment_add + '/undersampled_y_train.csv', index = False)\n",
    "y_test.to_csv(path + experiment_add + '/undersampled_y_test.csv', index = False)\n",
    "np.savetxt(path + experiment_add + '/undersampled_y_pred.csv', Under_labels, delimiter=\",\")"
   ]
  },
  {
   "cell_type": "markdown",
   "metadata": {},
   "source": [
    "### Using Oversampling method"
   ]
  },
  {
   "cell_type": "code",
   "execution_count": 445,
   "metadata": {},
   "outputs": [
    {
     "name": "stdout",
     "output_type": "stream",
     "text": [
      "trained Nearest Neighbors in 128.85 s\n",
      "trained Random Forest in 20.50 s\n",
      "trained Gradient Boosting Classifier in 42.25 s\n",
      "                     Classifier  Total_time  Cross Val Mean Score\n",
      "2  Gradient Boosting Classifier   42.248165              0.690584\n",
      "1                 Random Forest   20.504631              0.580676\n",
      "0             Nearest Neighbors  128.853402              0.557131\n"
     ]
    }
   ],
   "source": [
    "cv_over_results = cv_model(X_over_preprocessed,y_over_preprocessed)\n",
    "cv_over_results = cv_over_results.sort_values(by='Cross Val Mean Score', ascending=False)\n",
    "print(cv_over_results)"
   ]
  },
  {
   "cell_type": "code",
   "execution_count": 453,
   "metadata": {},
   "outputs": [
    {
     "name": "stdout",
     "output_type": "stream",
     "text": [
      "              precision    recall  f1-score   support\n",
      "\n",
      "           0       0.93      0.85      0.89      7353\n",
      "           1       0.86      0.94      0.90      7267\n",
      "\n",
      "    accuracy                           0.89     14620\n",
      "   macro avg       0.89      0.89      0.89     14620\n",
      "weighted avg       0.89      0.89      0.89     14620\n",
      "\n"
     ]
    }
   ],
   "source": [
    "X_train, X_test, y_train, y_test = train_test_split(X_over_preprocessed, y_over_preprocessed, test_size=0.20)\n",
    "best_clf = dict_classifiers.get(cv_over_results.Classifier.iloc[0])\n",
    "best_clf.fit(X_train,y_train)\n",
    "over_labels = best_clf.predict(X_test)\n",
    "print(metrics.classification_report(y_test,over_labels))"
   ]
  },
  {
   "cell_type": "code",
   "execution_count": 454,
   "metadata": {},
   "outputs": [],
   "source": [
    "X_train.to_csv(path + experiment_add + '/Oversampled_X_train.csv',index= False)\n",
    "X_test.to_csv(path + experiment_add + '/Oversampled_X_test.csv',index= False)\n",
    "y_train.to_csv(path + experiment_add + '/Oversampled_y_train.csv',index= False)\n",
    "y_test.to_csv(path + experiment_add + '/Oversampled_y_test.csv',index= False)\n",
    "np.savetxt(path + experiment_add + '/Oversampled_y_pred.csv', over_labels, delimiter=\",\")"
   ]
  },
  {
   "cell_type": "markdown",
   "metadata": {},
   "source": [
    "## Based on the results obtained I will finetune all 3 models only using the oversampled data. This is party because undersampling eliminates 80% of the data limiting model to generalize. "
   ]
  },
  {
   "cell_type": "markdown",
   "metadata": {},
   "source": [
    "<b>Starting with RandomForestClassifier</b>"
   ]
  },
  {
   "cell_type": "code",
   "execution_count": null,
   "metadata": {},
   "outputs": [],
   "source": [
    "# Calling Random Forest Classifier\n",
    "rfc=RandomForestClassifier(random_state=42)"
   ]
  },
  {
   "cell_type": "code",
   "execution_count": null,
   "metadata": {},
   "outputs": [],
   "source": [
    "# Setting the grid parameters\n",
    "param_grid = { \n",
    "    'n_estimators': np.arange(2,19,3),\n",
    "    'max_features': ['auto', 'sqrt', 'log2'],\n",
    "    'max_depth' : [4,5,6],\n",
    "    'criterion' :['gini', 'entropy']\n",
    "}"
   ]
  },
  {
   "cell_type": "code",
   "execution_count": null,
   "metadata": {},
   "outputs": [],
   "source": [
    "# Evaluating the grid parameters\n",
    "X_train, X_test, y_train, y_test = train_test_split(X_over_preprocessed, y_over_preprocessed, test_size=0.20)\n",
    "CV_rfc = GridSearchCV(estimator=rfc, param_grid=param_grid, cv= 3)\n",
    "CV_rfc.fit(X_train, y_train)"
   ]
  },
  {
   "cell_type": "code",
   "execution_count": 455,
   "metadata": {},
   "outputs": [
    {
     "data": {
      "text/plain": [
       "{'criterion': 'gini',\n",
       " 'max_depth': 6,\n",
       " 'max_features': 'auto',\n",
       " 'n_estimators': 11}"
      ]
     },
     "execution_count": 455,
     "metadata": {},
     "output_type": "execute_result"
    }
   ],
   "source": [
    "CV_rfc.best_params_"
   ]
  },
  {
   "cell_type": "code",
   "execution_count": 456,
   "metadata": {},
   "outputs": [],
   "source": [
    "finetune_rf = CV_rfc.best_estimator_\n",
    "finetune_rf.fit(X_test,y_test)\n",
    "rf_pred = finetune_rf.predict(X_test)\n"
   ]
  },
  {
   "cell_type": "code",
   "execution_count": 457,
   "metadata": {},
   "outputs": [
    {
     "name": "stdout",
     "output_type": "stream",
     "text": [
      "              precision    recall  f1-score   support\n",
      "\n",
      "           0       0.92      0.82      0.87      7353\n",
      "           1       0.84      0.93      0.88      7267\n",
      "\n",
      "    accuracy                           0.88     14620\n",
      "   macro avg       0.88      0.88      0.87     14620\n",
      "weighted avg       0.88      0.88      0.87     14620\n",
      "\n"
     ]
    }
   ],
   "source": [
    "print(metrics.classification_report(y_test,rf_pred))"
   ]
  },
  {
   "cell_type": "code",
   "execution_count": 474,
   "metadata": {},
   "outputs": [
    {
     "data": {
      "image/png": "[encoded data removed]",
      "text/plain": [
       "<Figure size 288x288 with 1 Axes>"
      ]
     },
     "metadata": {
      "needs_background": "light"
     },
     "output_type": "display_data"
    }
   ],
   "source": [
    "fig = plot_confusion_matrix(metrics.confusion_matrix(y_test,rf_pred), target_names= ['No Deposit', 'Deposit'], normalize=False)\n",
    "plt.show(fig)"
   ]
  },
  {
   "cell_type": "code",
   "execution_count": null,
   "metadata": {},
   "outputs": [],
   "source": [
    "k_range = list(range(3, 10 ,2))\n",
    "\n",
    "weight_options = ['uniform', 'distance']\n",
    "param_dist = dict(n_neighbors=k_range, weights=weight_options)\n",
    "\n",
    "knn = KNeighborsClassifier()\n",
    "rand = RandomizedSearchCV(knn, param_dist, cv=3, scoring='accuracy', random_state=5, n_jo)\n",
    "\n",
    "rand.fit(X_train, y_train)"
   ]
  },
  {
   "cell_type": "code",
   "execution_count": 458,
   "metadata": {},
   "outputs": [
    {
     "name": "stdout",
     "output_type": "stream",
     "text": [
      "0.9279533483822423\n",
      "{'weights': 'distance', 'n_neighbors': 3}\n",
      "KNeighborsClassifier(n_neighbors=3, weights='distance')\n"
     ]
    }
   ],
   "source": [
    "# examine the best model\n",
    "print(rand.best_score_)\n",
    "print(rand.best_params_)\n",
    "print(rand.best_estimator_)"
   ]
  },
  {
   "cell_type": "code",
   "execution_count": 459,
   "metadata": {},
   "outputs": [
    {
     "name": "stdout",
     "output_type": "stream",
     "text": [
      "              precision    recall  f1-score   support\n",
      "\n",
      "           0       1.00      0.90      0.94      7353\n",
      "           1       0.90      1.00      0.95      7267\n",
      "\n",
      "    accuracy                           0.95     14620\n",
      "   macro avg       0.95      0.95      0.95     14620\n",
      "weighted avg       0.95      0.95      0.95     14620\n",
      "\n"
     ]
    }
   ],
   "source": [
    "finetune_rand = rand.best_estimator_\n",
    "finetune_rand.fit(X_train,y_train)\n",
    "knn_pred = finetune_rand.predict(X_test)\n",
    "print(metrics.classification_report(y_test,knn_pred))"
   ]
  },
  {
   "cell_type": "code",
   "execution_count": 475,
   "metadata": {},
   "outputs": [
    {
     "data": {
      "image/png": "[encoded data removed]",
      "text/plain": [
       "<Figure size 288x288 with 1 Axes>"
      ]
     },
     "metadata": {
      "needs_background": "light"
     },
     "output_type": "display_data"
    }
   ],
   "source": [
    "fig = plot_confusion_matrix(metrics.confusion_matrix(y_test,knn_pred), target_names= ['No Deposit', 'Deposit'], normalize=False)\n",
    "plt.show(fig)"
   ]
  },
  {
   "cell_type": "code",
   "execution_count": null,
   "metadata": {},
   "outputs": [],
   "source": [
    "parameters = {\n",
    "    \"n_estimators\":[5,50,250,500],\n",
    "    \"max_depth\":[1,3,5,7,9],\n",
    "    \"learning_rate\":[0.01,0.1,1,10,100]\n",
    "}\n",
    "\n",
    "clf = GridSearchCV(GradientBoostingClassifier(), parameters, cv=3, n_jobs=-1)\n",
    "\n",
    "clf.fit(X_train, y_train)\n",
    "print(clf.score(X_train, y_train))\n",
    "print(clf.best_params_)\n",
    "\n",
    "result = clf.predict(X_test)\n"
   ]
  },
  {
   "cell_type": "code",
   "execution_count": 471,
   "metadata": {},
   "outputs": [
    {
     "name": "stdout",
     "output_type": "stream",
     "text": [
      "0.9999315958683904\n",
      "{'learning_rate': 1, 'max_depth': 9, 'n_estimators': 500}\n"
     ]
    }
   ],
   "source": [
    "print(clf.score(X_train, y_train))\n",
    "print(clf.best_params_)"
   ]
  },
  {
   "cell_type": "code",
   "execution_count": 468,
   "metadata": {},
   "outputs": [
    {
     "name": "stdout",
     "output_type": "stream",
     "text": [
      "              precision    recall  f1-score   support\n",
      "\n",
      "           0       1.00      0.94      0.97      7353\n",
      "           1       0.95      1.00      0.97      7267\n",
      "\n",
      "    accuracy                           0.97     14620\n",
      "   macro avg       0.97      0.97      0.97     14620\n",
      "weighted avg       0.97      0.97      0.97     14620\n",
      "\n"
     ]
    }
   ],
   "source": [
    "tune_clf = clf.best_estimator_\n",
    "tune_clf.fit(X_train,y_train)\n",
    "GB_pred = tune_clf.predict(X_test)\n",
    "print(metrics.classification_report(y_test,GB_pred))"
   ]
  },
  {
   "cell_type": "code",
   "execution_count": 476,
   "metadata": {},
   "outputs": [
    {
     "data": {
      "image/png": "[encoded data removed]",
      "text/plain": [
       "<Figure size 288x288 with 1 Axes>"
      ]
     },
     "metadata": {
      "needs_background": "light"
     },
     "output_type": "display_data"
    }
   ],
   "source": [
    "fig = plot_confusion_matrix(metrics.confusion_matrix(y_test,GB_pred), target_names= ['No Deposit', 'Deposit'], normalize=False)\n",
    "plt.show(fig)"
   ]
  },
  {
   "cell_type": "code",
   "execution_count": 461,
   "metadata": {},
   "outputs": [
    {
     "data": {
      "text/plain": [
       "VotingClassifier(estimators=[('rf',\n",
       "                              RandomForestClassifier(max_depth=6,\n",
       "                                                     n_estimators=11,\n",
       "                                                     random_state=42)),\n",
       "                             ('knn',\n",
       "                              KNeighborsClassifier(n_neighbors=3,\n",
       "                                                   weights='distance')),\n",
       "                             ('gnb',\n",
       "                              GradientBoostingClassifier(learning_rate=1,\n",
       "                                                         max_depth=9,\n",
       "                                                         n_estimators=500))],\n",
       "                 n_jobs=-1)"
      ]
     },
     "execution_count": 461,
     "metadata": {},
     "output_type": "execute_result"
    }
   ],
   "source": [
    "from sklearn.ensemble import VotingClassifier\n",
    "ensemble = VotingClassifier(estimators = [(\"rf\",finetune_rf),(\"knn\",finetune_rand),(\"gnb\",tune_clf)], voting = 'hard',n_jobs = -1)\n",
    "ensemble.fit(X_train,y_train)"
   ]
  },
  {
   "cell_type": "markdown",
   "metadata": {},
   "source": [
    "##  Model Analysis <a class=\"anchor\" id=\"eight-bullet\"></a>"
   ]
  },
  {
   "cell_type": "code",
   "execution_count": 462,
   "metadata": {},
   "outputs": [],
   "source": [
    "final_preds = ensemble.predict(X_test)"
   ]
  },
  {
   "cell_type": "code",
   "execution_count": 463,
   "metadata": {},
   "outputs": [
    {
     "name": "stdout",
     "output_type": "stream",
     "text": [
      "              precision    recall  f1-score   support\n",
      "\n",
      "           0       1.00      0.91      0.95      7353\n",
      "           1       0.92      1.00      0.96      7267\n",
      "\n",
      "    accuracy                           0.96     14620\n",
      "   macro avg       0.96      0.96      0.96     14620\n",
      "weighted avg       0.96      0.96      0.96     14620\n",
      "\n"
     ]
    }
   ],
   "source": [
    "print(metrics.classification_report(y_test,final_preds))"
   ]
  },
  {
   "cell_type": "code",
   "execution_count": 464,
   "metadata": {},
   "outputs": [
    {
     "data": {
      "image/png": "[encoded data removed]",
      "text/plain": [
       "<Figure size 288x288 with 1 Axes>"
      ]
     },
     "metadata": {
      "needs_background": "light"
     },
     "output_type": "display_data"
    },
    {
     "data": {
      "text/plain": [
       "<Figure size 432x288 with 0 Axes>"
      ]
     },
     "metadata": {},
     "output_type": "display_data"
    }
   ],
   "source": [
    "fig = plot_confusion_matrix(metrics.confusion_matrix(y_test,final_preds), target_names= ['No Deposit', 'Deposit'], normalize=False)\n",
    "plt.savefig(path + figures_add + '/Ensemble_CM.png')\n",
    "plt.show(fig)"
   ]
  },
  {
   "cell_type": "code",
   "execution_count": 469,
   "metadata": {},
   "outputs": [
    {
     "data": {
      "image/png": "[encoded data removed]",
      "text/plain": [
       "<Figure size 432x288 with 1 Axes>"
      ]
     },
     "metadata": {
      "needs_background": "light"
     },
     "output_type": "display_data"
    }
   ],
   "source": [
    "from sklearn.metrics import roc_curve\n",
    "from sklearn.metrics import roc_auc_score\n",
    "\n",
    "baseline_roc_auc = roc_auc_score(y_test, finetune_rf.predict_proba(X_test)[:,1])\n",
    "fprB, tprB, thresholdsB = roc_curve(y_test, finetune_rf.predict_proba(X_test)[:,1])\n",
    "\n",
    "model1_roc_auc = roc_auc_score(y_test, finetune_rand.predict_proba(X_test)[:,1])\n",
    "fpr1, tpr1, thresholds1 = roc_curve(y_test, finetune_rand.predict_proba(X_test)[:,1])\n",
    "\n",
    "new_roc_auc = roc_auc_score(y_test, tune_clf.predict_proba(X_test)[:,1])\n",
    "fprnew, tprnew, thresholds_new = roc_curve(y_test, tune_clf.predict_proba(X_test)[:,1])\n",
    "\n",
    "plt.figure()\n",
    "plt.plot(fprB, tprB, label='Random Forest (area = %0.2f)' % baseline_roc_auc)\n",
    "plt.plot(fpr1, tpr1, label='K-NN (area = %0.2f)' % model1_roc_auc)\n",
    "plt.plot(fprnew, tprnew, label='GBM (area = %0.2f)' % new_roc_auc)\n",
    "\n",
    "plt.xlabel('False Positive Rate')\n",
    "plt.ylabel('True Positive Rate')\n",
    "plt.title('Receiver operating characteristic (Ensemble Classifer)')\n",
    "plt.legend(loc=\"lower right\")\n",
    "plt.savefig(path + figures_add + '/Roc_curve.png')\n",
    "plt.show()"
   ]
  },
  {
   "cell_type": "markdown",
   "metadata": {},
   "source": [
    "### Calculating the feature importances using the best fit random forest classifier"
   ]
  },
  {
   "cell_type": "code",
   "execution_count": 470,
   "metadata": {},
   "outputs": [
    {
     "data": {
      "image/png": "[encoded data removed]",
      "text/plain": [
       "<Figure size 432x720 with 1 Axes>"
      ]
     },
     "metadata": {
      "needs_background": "light"
     },
     "output_type": "display_data"
    }
   ],
   "source": [
    "def f_importances(coef, names, top=-1):\n",
    "    imp = coef\n",
    "    imp, names = zip(*sorted(list(zip(imp, names))))\n",
    "\n",
    "    # Show all features\n",
    "    if top == -1:\n",
    "        top = len(names)\n",
    "    plt.figure(figsize = [6,10])\n",
    "    plt.title(\"Important Feature that govern decision making Term Deposit \")\n",
    "    plt.barh(range(top), imp[::-1][0:top], align='center')\n",
    "    plt.yticks(range(top), names[::-1][0:top])\n",
    "    plt.show()\n",
    "\n",
    "# passing our column names\n",
    "feature_names = X_train.columns \n",
    "\n",
    "# calling feature importance function to plot the most important features for energy consumption\n",
    "f_importances((finetune_rf.feature_importances_), feature_names, top=8)"
   ]
  },
  {
   "cell_type": "markdown",
   "metadata": {},
   "source": [
    "<b> Inferences</b> \n",
    "- Based on the modelling, we can infere that our final model generalizes well and can predict majority unseen cases.\n",
    "- Feature impotances calculated from Random Forests states that Call Duration plays an important factor in decision making for our model.\n",
    "- Economic data collected in the latest version of the dataset plays a significant factor in predicting customer behavior\n",
    "- Celluar point of contacts are have high turn out ratio as compared to telephonic connections."
   ]
  },
  {
   "cell_type": "markdown",
   "metadata": {},
   "source": [
    "<b> Future Steps</b>\n",
    "\n",
    "<b> Data and Model Improvements </b>\n",
    "- As economic attributes tend to play vital role in predicting cutomer behavior, adding more variables from economics and statistics could lead to a better picture.\n",
    "- Could invest more time and efforts in data cleaning and preprocessing.(For e.g imputation of entire datasaet based on the missing values, eliminating redudant classes in education by binning basic education in one set, etc) \n",
    "- Try SMOTE and other advanced sampling techniques to overcome the class imbalance class distribution\n",
    "- Try other various algorithms and generate inferences based on their performance.\n",
    "- Once we have hold to additional data, adding more classifiers in the ensemble pipeline could lead to better predictions. \n",
    "\n",
    "<b>Summarizing entire pipeline for generating inferences from the steps applied.</b>\n",
    "- Campaign managers should definitely limit calling same client and direct resources in approaching new customers.\n",
    "- Based on collected data, groups with university education and those working in Admin, Technical or are retired have higher chacnes of subscribing to term deposits. \n",
    "- The model can be enhanced to production level by integrating with doamin experts and developed a system which provides real time analysis to campaign managers such that they can tweak their marketing pitch based on the personalized insights from the data.\n",
    "- This system can help to reduce the Rejection Rate and optimize resource planning to expand the reach of the marketing campaign."
   ]
  },
  {
   "cell_type": "markdown",
   "metadata": {},
   "source": [
    "# Thank You"
   ]
  }
 ],
 "metadata": {
  "kernelspec": {
   "display_name": "Python 3",
   "language": "python",
   "name": "python3"
  },
  "language_info": {
   "codemirror_mode": {
    "name": "ipython",
    "version": 3
   },
   "file_extension": ".py",
   "mimetype": "text/x-python",
   "name": "python",
   "nbconvert_exporter": "python",
   "pygments_lexer": "ipython3",
   "version": "3.6.8"
  }
 },
 "nbformat": 4,
 "nbformat_minor": 2
}
